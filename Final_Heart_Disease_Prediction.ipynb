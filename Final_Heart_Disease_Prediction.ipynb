{
 "cells": [
  {
   "attachments": {},
   "cell_type": "markdown",
   "metadata": {},
   "source": [
    "# INTRODUCTION"
   ]
  },
  {
   "attachments": {},
   "cell_type": "markdown",
   "metadata": {},
   "source": [
    "Heart disease is a type of disease that affects the heart or blood vessels. The risk of certain heart diseases may be increased by smoking, high blood pressure, high cholesterol, unhealthy diet, lack of exercise, and obesity. Heart disease describes a range of conditions that affect the heart. These diseases include:\n",
    "\n",
    " ##### a)Blood vessel disease, such as coronary artery disease\n",
    " ##### b)Irregular heartbeats (arrhythmias)\n",
    " ##### c)Heart problems you're born with (congenital heart defects)\n",
    " ##### d)Disease of the heart muscle\n",
    " ##### e)Heart valve disease"
   ]
  },
  {
   "attachments": {},
   "cell_type": "markdown",
   "metadata": {},
   "source": [
    "## Details on the data set\n",
    "### Title: Heart Disease Prediction\n",
    "Relevant information: This is a data set used to predict heart disease. Patients were classified as having or not having heart disease based on cardiac catheterization, the gold standard. If they had more than 50% narrowing of a coronary artery they were labeled as having heart disease.\n",
    "\n",
    "In this cohort, there are 270 patients and there are 13 independent predictive variables or column attributes. "
   ]
  },
  {
   "attachments": {},
   "cell_type": "markdown",
   "metadata": {},
   "source": [
    "## Sources:\n",
    " a) This data set came from the University of California Irvine data repository and is used to predict heart disease\n",
    " \n",
    " b) https://data.world/informatics-edu/heart-disease-prediction/workspace/file?filename=+Heart_Disease_Prediction.csv"
   ]
  },
  {
   "attachments": {},
   "cell_type": "markdown",
   "metadata": {},
   "source": [
    "## Description of columns\n",
    "* age: (In years)\n",
    "* sex: Gender (Male/female)\n",
    "* chest_pain_type: Value 1: typical angina -- Value 2: atypical angina -- Value 3: non-anginal pain -- Value 4: asymptomatic\n",
    "* bp: resting blood pressure (in mm Hg on admission to the hospital)\n",
    "* cholestrol: serum cholestoral in mg/dl\n",
    "* fbs_over_120: \n"
   ]
  }
 ],
 "metadata": {
  "language_info": {
   "name": "python"
  },
  "orig_nbformat": 4
 },
 "nbformat": 4,
 "nbformat_minor": 2
}
